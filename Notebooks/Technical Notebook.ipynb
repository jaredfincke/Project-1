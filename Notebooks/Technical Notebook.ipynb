{
 "cells": [
  {
   "cell_type": "code",
   "execution_count": null,
   "metadata": {},
   "outputs": [],
   "source": [
    "### Importing the Data into a pandas datafram. Also Importing Numpy & Matlab"
   ]
  },
  {
   "cell_type": "code",
   "execution_count": 7,
   "metadata": {},
   "outputs": [],
   "source": [
    "import pandas as pd\n",
    "Tdf = pd.read_csv(\"../Data/Clean_Teams_Data.csv\")\n",
    "import pandas as pd\n",
    "import numpy as np\n",
    "import matplotlib.pyplot as plt\n",
    "%matplotlib inline"
   ]
  },
  {
   "cell_type": "code",
   "execution_count": 8,
   "metadata": {},
   "outputs": [
    {
     "data": {
      "text/html": [
       "<div>\n",
       "<style scoped>\n",
       "    .dataframe tbody tr th:only-of-type {\n",
       "        vertical-align: middle;\n",
       "    }\n",
       "\n",
       "    .dataframe tbody tr th {\n",
       "        vertical-align: top;\n",
       "    }\n",
       "\n",
       "    .dataframe thead th {\n",
       "        text-align: right;\n",
       "    }\n",
       "</style>\n",
       "<table border=\"1\" class=\"dataframe\">\n",
       "  <thead>\n",
       "    <tr style=\"text-align: right;\">\n",
       "      <th></th>\n",
       "      <th>Unnamed: 0</th>\n",
       "      <th>yearID</th>\n",
       "      <th>teamID</th>\n",
       "      <th>G</th>\n",
       "      <th>W</th>\n",
       "      <th>L</th>\n",
       "      <th>LgWin</th>\n",
       "      <th>WSWin</th>\n",
       "      <th>R</th>\n",
       "      <th>H</th>\n",
       "      <th>E</th>\n",
       "      <th>attendance</th>\n",
       "    </tr>\n",
       "  </thead>\n",
       "  <tbody>\n",
       "    <tr>\n",
       "      <th>2336</th>\n",
       "      <td>2803</td>\n",
       "      <td>2015</td>\n",
       "      <td>SDN</td>\n",
       "      <td>162</td>\n",
       "      <td>74</td>\n",
       "      <td>88</td>\n",
       "      <td>N</td>\n",
       "      <td>N</td>\n",
       "      <td>650</td>\n",
       "      <td>1324</td>\n",
       "      <td>92</td>\n",
       "      <td>2459742.0</td>\n",
       "    </tr>\n",
       "    <tr>\n",
       "      <th>2337</th>\n",
       "      <td>2804</td>\n",
       "      <td>2015</td>\n",
       "      <td>COL</td>\n",
       "      <td>162</td>\n",
       "      <td>68</td>\n",
       "      <td>94</td>\n",
       "      <td>N</td>\n",
       "      <td>N</td>\n",
       "      <td>737</td>\n",
       "      <td>1479</td>\n",
       "      <td>95</td>\n",
       "      <td>2506789.0</td>\n",
       "    </tr>\n",
       "  </tbody>\n",
       "</table>\n",
       "</div>"
      ],
      "text/plain": [
       "      Unnamed: 0  yearID teamID    G   W   L LgWin WSWin    R     H   E  \\\n",
       "2336        2803    2015    SDN  162  74  88     N     N  650  1324  92   \n",
       "2337        2804    2015    COL  162  68  94     N     N  737  1479  95   \n",
       "\n",
       "      attendance  \n",
       "2336   2459742.0  \n",
       "2337   2506789.0  "
      ]
     },
     "execution_count": 8,
     "metadata": {},
     "output_type": "execute_result"
    }
   ],
   "source": [
    "Tdf.tail(2)"
   ]
  },
  {
   "cell_type": "code",
   "execution_count": 9,
   "metadata": {},
   "outputs": [
    {
     "data": {
      "image/png": "[encoded data removed]",
      "text/plain": [
       "<Figure size 432x288 with 1 Axes>"
      ]
     },
     "metadata": {
      "needs_background": "light"
     },
     "output_type": "display_data"
    }
   ],
   "source": [
    "Tdf.plot(kind = 'scatter', x = 'E', y = 'W')\n",
    "plt.show()"
   ]
  },
  {
   "cell_type": "code",
   "execution_count": null,
   "metadata": {},
   "outputs": [],
   "source": []
  }
 ],
 "metadata": {
  "kernelspec": {
   "display_name": "Python 3",
   "language": "python",
   "name": "python3"
  },
  "language_info": {
   "codemirror_mode": {
    "name": "ipython",
    "version": 3
   },
   "file_extension": ".py",
   "mimetype": "text/x-python",
   "name": "python",
   "nbconvert_exporter": "python",
   "pygments_lexer": "ipython3",
   "version": "3.8.3"
  }
 },
 "nbformat": 4,
 "nbformat_minor": 4
}
